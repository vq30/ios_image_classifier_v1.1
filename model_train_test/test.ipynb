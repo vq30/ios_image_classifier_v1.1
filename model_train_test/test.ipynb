{
 "cells": [
  {
   "cell_type": "code",
   "execution_count": 1,
   "metadata": {},
   "outputs": [],
   "source": [
    "from __future__ import absolute_import\n",
    "from __future__ import division\n",
    "from __future__ import print_function\n",
    "import pandas as pd\n",
    "import argparse\n",
    "import sys,os\n",
    "import tensorflow as tf\n",
    "from PIL import Image\n",
    "from tqdm import tqdm\n",
    "from urllib.request import urlopen"
   ]
  },
  {
   "cell_type": "code",
   "execution_count": 2,
   "metadata": {},
   "outputs": [],
   "source": [
    "def load_image(filename):\n",
    "    #Read in the image_data to be classified.\"\"\"\n",
    "    return tf.gfile.FastGFile(filename, 'rb').read()\n",
    "\n",
    "def load_labels(filename):\n",
    "    #Read in labels, one label per line.\"\"\"\n",
    "    return [line.rstrip() for line in tf.gfile.GFile(filename)]\n",
    "\n",
    "def load_graph(filename):\n",
    "    #Unpersists graph from file as default graph.\"\"\"\n",
    "    with tf.gfile.FastGFile(filename, 'rb') as f:\n",
    "        graph_def = tf.GraphDef()\n",
    "        graph_def.ParseFromString(f.read())\n",
    "        tf.import_graph_def(graph_def, name='')\n",
    "        \n",
    "def load_pb(path_to_pb):\n",
    "    with tf.gfile.GFile(path_to_pb, \"rb\") as f:\n",
    "        graph_def = tf.GraphDef()\n",
    "        graph_def.ParseFromString(f.read())\n",
    "    with tf.Graph().as_default() as graph:\n",
    "        tf.import_graph_def(graph_def, name='')\n",
    "        return graph"
   ]
  },
  {
   "cell_type": "code",
   "execution_count": 4,
   "metadata": {},
   "outputs": [],
   "source": [
    "graph_path = '/Users/Alex/Documents/Cover/car_classifier/image_classifier/model_mobilenet_v1/output_graph.pb'\n",
    "load_graph(graph_path)\n",
    "\n",
    "label_path = '/Users/Alex/Documents/Cover/car_classifier/image_classifier/model_mobilenet_v1/cover_labels.txt'\n",
    "labels = load_labels(label_path)\n",
    "\n",
    "input_layer = 'DecodeJpeg/contents:0'\n",
    "output_layer = 'final_result:0'\n",
    "\n",
    "num_top_predictions = 3\n",
    "\n",
    "src = os.path.join('/Volumes/alex_encrypted/model_v1/','test')"
   ]
  },
  {
   "cell_type": "code",
   "execution_count": 10,
   "metadata": {},
   "outputs": [
    {
     "name": "stdout",
     "output_type": "stream",
     "text": [
      "output name = \n",
      "final_result\n",
      "\n",
      "Input name = \n",
      "DecodeJpeg/contents\n",
      "\n"
     ]
    }
   ],
   "source": [
    "## Print input and output names from model\n",
    "gf = tf.GraphDef()   \n",
    "m_file = open(graph_path,'rb')\n",
    "gf.ParseFromString(m_file.read())\n",
    "\n",
    "with open('somefile.txt', 'a') as the_file:\n",
    "    for n in gf.node:\n",
    "        the_file.write(n.name+'\\n')\n",
    "\n",
    "file = open('somefile.txt','r')\n",
    "data = file.readlines()\n",
    "print (\"output name = \", data[len(data)-1])\n",
    "file.seek ( 0 )\n",
    "print (\"Input name = \", file.readline())"
   ]
  },
  {
   "cell_type": "code",
   "execution_count": 12,
   "metadata": {},
   "outputs": [
    {
     "name": "stderr",
     "output_type": "stream",
     "text": [
      "UsageError: Line magic function `%tensorboard` not found.\n"
     ]
    }
   ],
   "source": [
    "#tensorboard --logdir=path/to/log-directory\n",
    "\n",
    "import tensorflow as tf\n",
    "\n",
    "tflite_convert \\\n",
    "--output_file '/Users/Alex/Documents/Cover/car_classifier/image_classifier/model_v1/model_v1_lite.tflite' \\\n",
    "--graph_def_file '/Users/Alex/Documents/Cover/car_classifier/image_classifier/model_v1/output_graph.pb' \\\n",
    "--input_arrays 'DecodeJpeg/contents' \\\n",
    "--output_arrays 'final_result'  "
   ]
  },
  {
   "cell_type": "code",
   "execution_count": null,
   "metadata": {},
   "outputs": [],
   "source": [
    "# Run just one image\n",
    "# one_image_url = ''\n",
    "one_image_filepath = '/Users/Alex/Desktop/odo1.png'\n",
    "\n",
    "with tf.Session() as sess:\n",
    "    image_data=load_image(one_image_filepath)\n",
    "    softmax_tensor=sess.graph.get_tensor_by_name(output_layer)\n",
    "    predictions,=sess.run(softmax_tensor, {input_layer: image_data})\n",
    "\n",
    "    # Sort to show labels in order of confidence             \n",
    "    top_k = predictions.argsort()[-num_top_predictions:][::-1]\n",
    "    predict_txt = ''\n",
    "    i = 0\n",
    "    for node_id in top_k:\n",
    "        # get top predictions only\n",
    "        if i == 0:\n",
    "            top_prediction = labels[node_id]\n",
    "            top_score = str(round(predictions[node_id], 5))\n",
    "        # get all predictions\n",
    "        predicted_label = labels[node_id]\n",
    "        score = predictions[node_id]\n",
    "        predict_txt += predicted_label + ': ' + str(round(score, 5)) + ', '\n",
    "\n",
    "        i += 1\n",
    "        #print(f, predicted_label, score)\n",
    "\n",
    "    new_line = [one_image_filepath, 'top_prediction: ' + top_prediction, top_score, predict_txt]\n",
    "    print(new_line)\n",
    "    display(Image.open(one_image_filepath))"
   ]
  },
  {
   "cell_type": "code",
   "execution_count": 5,
   "metadata": {},
   "outputs": [],
   "source": [
    "final_list = [['image_name', 'image_path', 'actual_label', 'top_prediction', 'guess_correct', 'top_score', 'all_predictions' ]]\n",
    "\n",
    "\n",
    "def run_graph(src, labels, input_layer_name, output_layer_name, num_top_predictions):\n",
    "    \n",
    "    with tf.Session() as sess:\n",
    "        for label in labels:\n",
    "            label = label.replace(' ', '_')\n",
    "            # Feed the image_data as input to the graph.\n",
    "            for f in os.listdir(os.path.join(src, label)):\n",
    "                if f.endswith('.jpg'):\n",
    "                    image_data=load_image(os.path.join(src, label, f))\n",
    "                    softmax_tensor=sess.graph.get_tensor_by_name(output_layer_name)\n",
    "                    predictions,=sess.run(softmax_tensor, {input_layer_name: image_data})\n",
    "\n",
    "                    # Sort to show labels in order of confidence             \n",
    "                    top_k = predictions.argsort()[-num_top_predictions:][::-1]\n",
    "                    predict_txt = ''\n",
    "                    i = 0\n",
    "                    for node_id in top_k:\n",
    "                        # get top predictions only\n",
    "                        if i == 0:\n",
    "                            top_prediction = labels[node_id]\n",
    "                            top_score = str(round(predictions[node_id], 5))\n",
    "                        # get all predictions\n",
    "                        predicted_label = labels[node_id]\n",
    "                        score = predictions[node_id]\n",
    "                        predict_txt += predicted_label + ': ' + str(round(score, 5)) + ', '\n",
    "\n",
    "                        i += 1\n",
    "                        #print(f, predicted_label, score)\n",
    "\n",
    "                    new_line = [f, os.path.join(src, label), label, top_prediction, label == top_prediction.replace(' ', '_'), top_score, predict_txt]\n",
    "                    #print(new_line)\n",
    "                    final_list.append(new_line)"
   ]
  },
  {
   "cell_type": "code",
   "execution_count": 6,
   "metadata": {},
   "outputs": [],
   "source": [
    "run_graph(src, labels, input_layer, output_layer, num_top_predictions)"
   ]
  },
  {
   "cell_type": "code",
   "execution_count": 7,
   "metadata": {},
   "outputs": [],
   "source": [
    "out_file_path = '/Users/Alex/Documents/Cover/car_classifier/image_classifier/mobilenet_results.csv'\n",
    "\n",
    "df = pd.DataFrame(final_list)\n",
    "df.to_csv(out_file_path, index=False, header= False)"
   ]
  }
 ],
 "metadata": {
  "kernelspec": {
   "display_name": "Python 3",
   "language": "python",
   "name": "python3"
  },
  "language_info": {
   "codemirror_mode": {
    "name": "ipython",
    "version": 3
   },
   "file_extension": ".py",
   "mimetype": "text/x-python",
   "name": "python",
   "nbconvert_exporter": "python",
   "pygments_lexer": "ipython3",
   "version": "3.7.3"
  }
 },
 "nbformat": 4,
 "nbformat_minor": 2
}
